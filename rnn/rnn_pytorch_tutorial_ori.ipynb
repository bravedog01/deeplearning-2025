{
 "cells": [
  {
   "cell_type": "markdown",
   "id": "b0386667",
   "metadata": {},
   "source": [
    "# RNN Tutorial"
   ]
  },
  {
   "cell_type": "markdown",
   "id": "888043a3",
   "metadata": {},
   "source": [
    "Included in the data/names directory are 18 text files named as “[Language].txt”. Each file contains a bunch of names, one name per line, mostly romanized (but we still need to convert from Unicode to ASCII).\n",
    "\n",
    "We’ll end up with a dictionary of lists of names per language, {language: [names ...]}. The generic variables “category” and “line” (for language and name in our case) are used for later extensibility."
   ]
  },
  {
   "cell_type": "code",
   "execution_count": 1,
   "id": "b44343fa",
   "metadata": {
    "scrolled": true
   },
   "outputs": [
    {
     "name": "stdout",
     "output_type": "stream",
     "text": [
      "['data/names/Arabic.txt', 'data/names/Chinese.txt', 'data/names/Czech.txt', 'data/names/Dutch.txt', 'data/names/English.txt', 'data/names/French.txt', 'data/names/German.txt', 'data/names/Greek.txt', 'data/names/Irish.txt', 'data/names/Italian.txt', 'data/names/Japanese.txt', 'data/names/Korean.txt', 'data/names/Polish.txt', 'data/names/Portuguese.txt', 'data/names/Russian.txt', 'data/names/Scottish.txt', 'data/names/Spanish.txt', 'data/names/Vietnamese.txt']\n",
      "Slusarski\n"
     ]
    }
   ],
   "source": [
    "from __future__ import unicode_literals, print_function, division\n",
    "from io import open\n",
    "import glob\n",
    "import os\n",
    "import torch\n",
    "import math\n",
    "\n",
    "def findFiles(path): return glob.glob(path)\n",
    "\n",
    "print(findFiles('data/names/*.txt'))\n",
    "\n",
    "import unicodedata\n",
    "import string\n",
    "\n",
    "all_letters = string.ascii_letters + \" .,;'\"\n",
    "n_letters = len(all_letters)\n",
    "\n",
    "# Turn a Unicode string to plain ASCII, thanks to https://stackoverflow.com/a/518232/2809427\n",
    "def unicodeToAscii(s):\n",
    "    return ''.join(\n",
    "        c for c in unicodedata.normalize('NFD', s)\n",
    "        if unicodedata.category(c) != 'Mn'\n",
    "        and c in all_letters\n",
    "    )\n",
    "\n",
    "print(unicodeToAscii('Ślusàrski'))\n",
    "\n",
    "# Build the category_lines dictionary, a list of names per language\n",
    "category_lines = {}\n",
    "all_categories = []\n",
    "\n",
    "# Read a file and split into lines\n",
    "def readLines(filename):\n",
    "    lines = open(filename, encoding='utf-8').read().strip().split('\\n')\n",
    "    return [unicodeToAscii(line) for line in lines]\n",
    "\n",
    "for filename in findFiles('data/names/*.txt'):\n",
    "    category = os.path.splitext(os.path.basename(filename))[0]\n",
    "    all_categories.append(category)\n",
    "    lines = readLines(filename)\n",
    "    category_lines[category] = lines\n",
    "\n",
    "n_categories = len(all_categories)"
   ]
  },
  {
   "cell_type": "markdown",
   "id": "e58f58a0",
   "metadata": {},
   "source": [
    "Now we have category_lines, a dictionary mapping each category (language) to a list of lines (names). We also kept track of all_categories (just a list of languages) and n_categories for later reference."
   ]
  },
  {
   "cell_type": "code",
   "execution_count": 2,
   "id": "03a992d9",
   "metadata": {},
   "outputs": [
    {
     "name": "stdout",
     "output_type": "stream",
     "text": [
      "['Abandonato', 'Abatangelo', 'Abatantuono', 'Abate', 'Abategiovanni']\n"
     ]
    }
   ],
   "source": [
    "print(category_lines['Italian'][:5])"
   ]
  },
  {
   "cell_type": "markdown",
   "id": "6c219cf0",
   "metadata": {},
   "source": [
    "### Turning Names into Tensors\n",
    "Now that we have all the names organized, we need to turn them into Tensors to make any use of them.\n",
    "\n",
    "To represent a single letter, we use a “one-hot vector” of size <1 x n_letters>. A one-hot vector is filled with 0s except for a 1 at index of the current letter, e.g. \"b\" = <0 1 0 0 0 ...>.\n",
    "\n",
    "To make a word we join a bunch of those into a 2D matrix <line_length x 1 x n_letters>.\n",
    "\n",
    "That extra 1 dimension is because PyTorch assumes everything is in batches - we’re just using a batch size of 1 here."
   ]
  },
  {
   "cell_type": "code",
   "execution_count": 3,
   "id": "c479aae7",
   "metadata": {
    "scrolled": true
   },
   "outputs": [
    {
     "name": "stdout",
     "output_type": "stream",
     "text": [
      "tensor([[0., 0., 0., 0., 0., 0., 0., 0., 0., 0., 0., 0., 0., 0., 0., 0., 0., 0.,\n",
      "         0., 0., 0., 0., 0., 0., 0., 0., 0., 0., 0., 0., 0., 0., 0., 0., 0., 1.,\n",
      "         0., 0., 0., 0., 0., 0., 0., 0., 0., 0., 0., 0., 0., 0., 0., 0., 0., 0.,\n",
      "         0., 0., 0.]])\n",
      "torch.Size([5, 1, 57])\n"
     ]
    }
   ],
   "source": [
    "import torch\n",
    "\n",
    "# Find letter index from all_letters, e.g. \"a\" = 0\n",
    "def letterToIndex(letter):\n",
    "    return all_letters.find(letter)\n",
    "\n",
    "# Just for demonstration, turn a letter into a <1 x n_letters> Tensor\n",
    "def letterToTensor(letter):\n",
    "    tensor = torch.zeros(1, n_letters)\n",
    "    tensor[0][letterToIndex(letter)] = 1\n",
    "    return tensor\n",
    "\n",
    "# Turn a line into a <line_length x 1 x n_letters>,\n",
    "# or an array of one-hot letter vectors\n",
    "def lineToTensor(line):\n",
    "    tensor = torch.zeros(len(line), 1, n_letters)\n",
    "    for li, letter in enumerate(line):\n",
    "        tensor[li][0][letterToIndex(letter)] = 1\n",
    "    return tensor\n",
    "\n",
    "print(letterToTensor('J'))\n",
    "\n",
    "print(lineToTensor('Jones').size())"
   ]
  },
  {
   "cell_type": "markdown",
   "id": "8a979493",
   "metadata": {},
   "source": [
    "### Creating the Network\n",
    "Before autograd, creating a recurrent neural network in Torch involved cloning the parameters of a layer over several timesteps. The layers held hidden state and gradients which are now entirely handled by the graph itself. This means you can implement a RNN in a very “pure” way, as regular feed-forward layers.\n",
    "\n",
    "This RNN module (mostly copied from the PyTorch for Torch users tutorial) is just 2 linear layers which operate on an input and hidden state, with a LogSoftmax layer after the output."
   ]
  },
  {
   "attachments": {
    "rnn.png": {
     "image/png": "[encoded data removed]"
    }
   },
   "cell_type": "markdown",
   "id": "a5802423",
   "metadata": {},
   "source": [
    "![rnn.png](attachment:rnn.png)"
   ]
  },
  {
   "cell_type": "code",
   "execution_count": 4,
   "id": "cc618041",
   "metadata": {},
   "outputs": [],
   "source": [
    "import torch.nn as nn\n",
    "\n",
    "class RNN(nn.Module):\n",
    "    def __init__(self, input_size, hidden_size, output_size):\n",
    "        super(RNN, self).__init__()\n",
    "\n",
    "        self.hidden_size = hidden_size\n",
    "\n",
    "        self.i2h = nn.Linear(input_size + hidden_size, hidden_size)\n",
    "        self.i2o = nn.Linear(input_size + hidden_size, output_size)\n",
    "        self.softmax = nn.LogSoftmax(dim=1)\n",
    "\n",
    "    def forward(self, input, hidden):\n",
    "        combined = torch.cat((input, hidden), 1)\n",
    "        hidden = self.i2h(combined)\n",
    "        output = self.i2o(combined)\n",
    "        output = self.softmax(output)\n",
    "        return output, hidden\n",
    "\n",
    "    def initHidden(self):\n",
    "        return torch.zeros(1, self.hidden_size)\n",
    "\n",
    "n_hidden = 128\n",
    "rnn = RNN(n_letters, n_hidden, n_categories)"
   ]
  },
  {
   "cell_type": "code",
   "execution_count": 5,
   "id": "fd8d9c45-f53c-4a7d-954e-b7c66c3bf374",
   "metadata": {},
   "outputs": [
    {
     "name": "stdout",
     "output_type": "stream",
     "text": [
      "RNN(\n",
      "  (i2h): Linear(in_features=185, out_features=128, bias=True)\n",
      "  (i2o): Linear(in_features=185, out_features=18, bias=True)\n",
      "  (softmax): LogSoftmax(dim=1)\n",
      ")\n"
     ]
    }
   ],
   "source": [
    "import torch.nn as nn\n",
    "\n",
    "class RNN(nn.Module):\n",
    "    def __init__(self, input_size, hidden_size, output_size):\n",
    "        super(RNN, self).__init__()\n",
    "        self.isLSTM = False\n",
    "\n",
    "        self.hidden_size = hidden_size\n",
    "\n",
    "        self.i2h = nn.Linear(input_size + hidden_size, hidden_size)  # input_size + hidden_size -> hidden_size\n",
    "        self.i2o = nn.Linear(input_size + hidden_size, output_size)  # input_size + hidden_size -> output_size\n",
    "        self.softmax = nn.LogSoftmax(dim=1)\n",
    "\n",
    "    def forward(self, input, hidden):\n",
    "        combined = torch.cat((input, hidden), 1)  # 连接input和hidden\n",
    "        hidden = self.i2h(combined)  # hidden就在一直更新\n",
    "        output = self.i2o(combined)\n",
    "        output = self.softmax(output)\n",
    "        return output, hidden\n",
    "\n",
    "    def initHidden(self):\n",
    "        return torch.zeros(1, self.hidden_size)\n",
    "\n",
    "n_hidden = 128\n",
    "rnn = RNN(n_letters, n_hidden, n_categories)\n",
    "print(rnn)"
   ]
  },
  {
   "cell_type": "code",
   "execution_count": 6,
   "id": "8bd8dc34-c8b8-4f13-ada2-4ae3a42adcdb",
   "metadata": {},
   "outputs": [
    {
     "name": "stdout",
     "output_type": "stream",
     "text": [
      "LSTM(\n",
      "  (rnn): LSTM(57, 128)\n",
      "  (out): Linear(in_features=128, out_features=18, bias=True)\n",
      "  (softmax): LogSoftmax(dim=-1)\n",
      ")\n"
     ]
    }
   ],
   "source": [
    "\n",
    "class LSTM(nn.Module):\n",
    "    def __init__(self, input_size, hidden_size, output_size):\n",
    "        super(LSTM, self).__init__()\n",
    "        self.isLSTM = True\n",
    "\n",
    "        self.hidden_size = hidden_size\n",
    "\n",
    "        self.rnn = nn.LSTM(input_size, hidden_size)  # pytorch封装好了\n",
    "        self.out = nn.Linear(hidden_size, output_size)  # 由hidden_size -> output_size\n",
    "        self.softmax = nn.LogSoftmax(dim=-1)\n",
    "\n",
    "    def forward(self, input, h, c):\n",
    "#         combined = torch.cat((input, hidden), 1)\n",
    "        out, (h, c) = self.rnn(input, (h, c))\n",
    "        output = self.out(out)\n",
    "        output = self.softmax(output)\n",
    "        return output, h, c\n",
    "\n",
    "    def initHidden(self):\n",
    "        return torch.zeros(1, 1, self.hidden_size), torch.zeros(1, 1, self.hidden_size)\n",
    "\n",
    "n_hidden = 128\n",
    "lstm = LSTM(n_letters, n_hidden, n_categories)\n",
    "print(lstm)"
   ]
  },
  {
   "cell_type": "markdown",
   "id": "9e1fa5ee",
   "metadata": {},
   "source": [
    "To run a step of this network we need to pass an input (in our case, the Tensor for the current letter) and a previous hidden state (which we initialize as zeros at first). We’ll get back the output (probability of each language) and a next hidden state (which we keep for the next step)."
   ]
  },
  {
   "cell_type": "code",
   "execution_count": 7,
   "id": "06571d86-7e45-4546-82b7-8cd741904acd",
   "metadata": {},
   "outputs": [],
   "source": [
    "import random\n",
    "import time\n",
    "import torch.nn as nn"
   ]
  },
  {
   "cell_type": "code",
   "execution_count": 8,
   "id": "2387d40d-7a9e-44b2-92ad-c86f4846d883",
   "metadata": {},
   "outputs": [
    {
     "name": "stdout",
     "output_type": "stream",
     "text": [
      "torch.Size([1, 57])\n",
      "torch.Size([1, 18])\n",
      "torch.Size([1, 128])\n"
     ]
    }
   ],
   "source": [
    "input = letterToTensor('A')\n",
    "print(input.size())\n",
    "hidden = torch.zeros(1, n_hidden)\n",
    "\n",
    "h = rnn.initHidden()\n",
    "output,next_h= rnn(input, h)\n",
    "print(output.shape)\n",
    "print(next_h.shape)"
   ]
  },
  {
   "cell_type": "markdown",
   "id": "eb17c8f1",
   "metadata": {},
   "source": [
    "For the sake of efficiency we don’t want to be creating a new Tensor for every step, so we will use lineToTensor instead of letterToTensor and use slices. This could be further optimized by pre-computing batches of Tensors."
   ]
  },
  {
   "cell_type": "code",
   "execution_count": 9,
   "id": "b5c2d9ad",
   "metadata": {},
   "outputs": [
    {
     "name": "stdout",
     "output_type": "stream",
     "text": [
      "torch.Size([6, 1, 57])\n",
      "tensor([[0.0522, 0.0587, 0.0543, 0.0586, 0.0566, 0.0514, 0.0589, 0.0545, 0.0573,\n",
      "         0.0570, 0.0525, 0.0598, 0.0552, 0.0596, 0.0546, 0.0558, 0.0523, 0.0507]],\n",
      "       grad_fn=<ExpBackward0>)\n"
     ]
    }
   ],
   "source": [
    "input = lineToTensor('Albert')  # (6, 1, 57)\n",
    "print(input.size())\n",
    "hidden = torch.zeros(1, n_hidden)\n",
    "\n",
    "h = rnn.initHidden()\n",
    "output, h = rnn(input[0], h)\n",
    "print(torch.exp(output))"
   ]
  },
  {
   "cell_type": "markdown",
   "id": "7cf3d70c",
   "metadata": {},
   "source": [
    "As you can see the output is a <1 x n_categories> Tensor, where every item is the likelihood of that category (higher is more likely)."
   ]
  },
  {
   "cell_type": "markdown",
   "id": "5b07c378",
   "metadata": {},
   "source": [
    "### Preparing for Training\n",
    "Before going into training we should make a few helper functions. The first is to interpret the output of the network, which we know to be a likelihood of each category. We can use Tensor.topk to get the index of the greatest value:"
   ]
  },
  {
   "cell_type": "code",
   "execution_count": 27,
   "id": "0fa90972",
   "metadata": {},
   "outputs": [
    {
     "name": "stdout",
     "output_type": "stream",
     "text": [
      "('German', 6)\n"
     ]
    }
   ],
   "source": [
    "def categoryFromOutput(output):\n",
    "    top_n, top_i = output.topk(1)\n",
    "    category_i = top_i[0].item()\n",
    "    return all_categories[category_i], category_i\n",
    "\n",
    "print(categoryFromOutput(output))"
   ]
  },
  {
   "cell_type": "markdown",
   "id": "627e3f73",
   "metadata": {},
   "source": [
    "We will also want a quick way to get a training example (a name and its language):"
   ]
  },
  {
   "cell_type": "code",
   "execution_count": 28,
   "id": "2c3ee352",
   "metadata": {},
   "outputs": [
    {
     "name": "stdout",
     "output_type": "stream",
     "text": [
      "category = French / line = Royer\n",
      "category = Spanish / line = Quiros\n",
      "category = French / line = Moulin\n",
      "category = Greek / line = Fourakis\n",
      "category = French / line = Denis\n",
      "category = Scottish / line = Macleod\n",
      "category = Dutch / line = Merckx\n",
      "category = Greek / line = Nomikos\n",
      "category = Russian / line = Pavlychev\n",
      "category = Russian / line = Isasev\n"
     ]
    }
   ],
   "source": [
    "import random\n",
    "\n",
    "def randomChoice(l):\n",
    "    return l[random.randint(0, len(l) - 1)]\n",
    "\n",
    "def randomTrainingExample():\n",
    "    category = randomChoice(all_categories)\n",
    "    line = randomChoice(category_lines[category])\n",
    "    category_tensor = torch.tensor([all_categories.index(category)], dtype=torch.long)\n",
    "    line_tensor = lineToTensor(line)\n",
    "    return category, line, category_tensor, line_tensor\n",
    "\n",
    "for i in range(10):\n",
    "    category, line, category_tensor, line_tensor = randomTrainingExample()\n",
    "    print('category =', category, '/ line =', line)"
   ]
  },
  {
   "cell_type": "markdown",
   "id": "c40c4996",
   "metadata": {},
   "source": [
    "### Training the Network\n",
    "Now all it takes to train this network is show it a bunch of examples, have it make guesses, and tell it if it’s wrong.\n",
    "\n",
    "For the loss function nn.NLLLoss is appropriate, since the last layer of the RNN is nn.LogSoftmax."
   ]
  },
  {
   "cell_type": "code",
   "execution_count": 29,
   "id": "122bdeff",
   "metadata": {},
   "outputs": [],
   "source": [
    "criterion = nn.NLLLoss()"
   ]
  },
  {
   "cell_type": "markdown",
   "id": "e304bb71",
   "metadata": {},
   "source": [
    "Each loop of training will:\n",
    "\n",
    "- Create input and target tensors\n",
    "- Create a zeroed initial hidden state\n",
    "- Read each letter in and keep hidden state for next letter\n",
    "- Compare final output to target\n",
    "- Back-propagate\n",
    "- Return the output and loss"
   ]
  },
  {
   "cell_type": "code",
   "execution_count": 30,
   "id": "602ea715",
   "metadata": {},
   "outputs": [],
   "source": [
    "learning_rate = 0.005 # If you set this too high, it might explode. If too low, it might not learn\n",
    "\n",
    "def train(category_tensor, line_tensor, net):\n",
    "    if net.isLSTM == True:\n",
    "        h0, c0 = net.initHidden()\n",
    "    else:\n",
    "        h0 = net.initHidden()\n",
    "\n",
    "    net.zero_grad()\n",
    "\n",
    "    if net.isLSTM == True:\n",
    "        # 直接输入整个句子就可以，pytorch会自动处理\n",
    "        output, h, c = net(line_tensor, h0, c0)\n",
    "    else:\n",
    "        # 一次输入一个字符\n",
    "        for i in range(line_tensor.size()[0]):\n",
    "            output, h0 = net(line_tensor[i], h0)\n",
    "\n",
    "    if net.isLSTM == True:\n",
    "        loss = criterion(output[-1], category_tensor)  # 取最后一个输出\n",
    "    else:\n",
    "        loss = criterion(output, category_tensor)\n",
    "    loss.backward()  # 计算梯度\n",
    "\n",
    "    # Add parameters' gradients to their values, multiplied by learning rate\n",
    "    # 没有使用optimizer，手动更新参数\n",
    "    for p in net.parameters():\n",
    "        p.data.add_(p.grad.data, alpha=-learning_rate)\n",
    "\n",
    "    return output, loss.item()"
   ]
  },
  {
   "cell_type": "code",
   "execution_count": 14,
   "id": "1126c4fb-f870-49f5-9a5f-cd3d7af57028",
   "metadata": {},
   "outputs": [
    {
     "name": "stdout",
     "output_type": "stream",
     "text": [
      "LSTMModel(\n",
      "  (lstm): LSTMBlock()\n",
      "  (classifier): Sequential(\n",
      "    (0): Linear(in_features=128, out_features=18, bias=True)\n",
      "    (1): LogSoftmax(dim=1)\n",
      "  )\n",
      ")\n",
      "torch.Size([6, 1, 57])\n",
      "tensor([[0.0565, 0.0530, 0.0516, 0.0536, 0.0549, 0.0593, 0.0572, 0.0535, 0.0600,\n",
      "         0.0524, 0.0595, 0.0589, 0.0559, 0.0568, 0.0549, 0.0589, 0.0518, 0.0513],\n",
      "        [0.0561, 0.0530, 0.0517, 0.0539, 0.0554, 0.0592, 0.0582, 0.0536, 0.0605,\n",
      "         0.0519, 0.0591, 0.0592, 0.0564, 0.0564, 0.0547, 0.0582, 0.0515, 0.0510],\n",
      "        [0.0563, 0.0532, 0.0513, 0.0543, 0.0563, 0.0592, 0.0573, 0.0539, 0.0600,\n",
      "         0.0527, 0.0583, 0.0580, 0.0561, 0.0568, 0.0553, 0.0588, 0.0516, 0.0507],\n",
      "        [0.0562, 0.0526, 0.0518, 0.0540, 0.0554, 0.0586, 0.0572, 0.0544, 0.0601,\n",
      "         0.0527, 0.0595, 0.0585, 0.0559, 0.0567, 0.0553, 0.0588, 0.0509, 0.0515],\n",
      "        [0.0568, 0.0529, 0.0509, 0.0547, 0.0554, 0.0590, 0.0577, 0.0537, 0.0599,\n",
      "         0.0519, 0.0599, 0.0594, 0.0555, 0.0561, 0.0546, 0.0596, 0.0510, 0.0508],\n",
      "        [0.0555, 0.0536, 0.0513, 0.0544, 0.0559, 0.0596, 0.0578, 0.0537, 0.0592,\n",
      "         0.0522, 0.0594, 0.0590, 0.0560, 0.0563, 0.0543, 0.0590, 0.0514, 0.0514]],\n",
      "       grad_fn=<ExpBackward0>)\n"
     ]
    }
   ],
   "source": [
    "from My_LSTM import LSTMModel\n",
    "device = torch.device(\"cuda\" if torch.cuda.is_available() else \"cpu\")\n",
    "criterion = criterion.to(device)\n",
    "\n",
    "n_hidden = 128\n",
    "my_lstm = LSTMModel(n_letters, n_hidden, n_categories).to(device)  # \n",
    "print(my_lstm)\n",
    "input = lineToTensor('Albert')  # (6, 1, 57)\n",
    "input = input.to(device)  # ⬅️ 把 input 转到模型所在设备\n",
    "print(input.shape)\n",
    "h, c = my_lstm.init_hidden(1)\n",
    "output, h, c = my_lstm(input, h, c)\n",
    "print(torch.exp(output))"
   ]
  },
  {
   "cell_type": "code",
   "execution_count": 16,
   "id": "a017c997-d6e5-4480-acab-d68b1bc4af14",
   "metadata": {},
   "outputs": [
    {
     "name": "stdout",
     "output_type": "stream",
     "text": [
      "5000 1.67% (0m 32s) Loss: 1.7654 | \"O'Hannagain\" -> Scottish ✗ (Irish)\n",
      "10000 3.33% (1m 3s) Loss: 2.3210 | \"Ianson\" -> Scottish ✗ (English)\n",
      "15000 5.00% (1m 34s) Loss: 0.9605 | \"Arendonk\" -> Dutch ✓\n",
      "20000 6.67% (2m 4s) Loss: 0.0532 | \"Dubicki\" -> Polish ✓\n",
      "25000 8.33% (2m 35s) Loss: 4.4877 | \"Torres\" -> Portuguese ✗ (Spanish)\n",
      "30000 10.00% (3m 5s) Loss: 0.0130 | \"Andrusiv\" -> Russian ✓\n",
      "35000 11.67% (3m 35s) Loss: 0.0005 | \"Vassilopulos\" -> Greek ✓\n",
      "40000 13.33% (4m 6s) Loss: 1.4685 | \"Cruz\" -> Spanish ✗ (Portuguese)\n",
      "45000 15.00% (4m 36s) Loss: 1.4916 | \"Bran\" -> Irish ✓\n",
      "50000 16.67% (5m 6s) Loss: 0.1827 | \"Farber\" -> German ✓\n",
      "55000 18.33% (5m 36s) Loss: 0.0007 | \"Kalakos\" -> Greek ✓\n",
      "60000 20.00% (6m 7s) Loss: 0.0027 | \"Cablikova\" -> Czech ✓\n",
      "65000 21.67% (6m 37s) Loss: 3.2258 | \"Hout\" -> German ✗ (Dutch)\n",
      "70000 23.33% (7m 7s) Loss: 0.0051 | \"Pasternack\" -> Polish ✓\n",
      "75000 25.00% (7m 38s) Loss: 0.0997 | \"Gensai\" -> Japanese ✓\n",
      "80000 26.67% (8m 8s) Loss: 0.0987 | \"Kijek\" -> Polish ✓\n",
      "85000 28.33% (8m 38s) Loss: 0.0058 | \"Ferreira\" -> Portuguese ✓\n",
      "90000 30.00% (9m 9s) Loss: 0.0322 | \"Choe\" -> Korean ✓\n",
      "95000 31.67% (9m 39s) Loss: 2.2003 | \"Mcguire\" -> English ✗ (Irish)\n",
      "100000 33.33% (10m 9s) Loss: 0.0104 | \"Vo\" -> Vietnamese ✓\n",
      "105000 35.00% (10m 39s) Loss: 0.0457 | \"Volcik\" -> Czech ✓\n",
      "110000 36.67% (11m 9s) Loss: 1.7228 | \"Mata\" -> Portuguese ✗ (Spanish)\n",
      "115000 38.33% (11m 39s) Loss: 0.1939 | \"Ran\" -> Chinese ✓\n",
      "120000 40.00% (12m 9s) Loss: 0.3787 | \"Parent\" -> French ✓\n",
      "125000 41.67% (12m 39s) Loss: 0.0177 | \"Lam\" -> Vietnamese ✓\n",
      "130000 43.33% (13m 9s) Loss: 0.0450 | \"Veprentsev\" -> Russian ✓\n",
      "135000 45.00% (13m 39s) Loss: 0.0209 | \"Woodland\" -> English ✓\n",
      "140000 46.67% (14m 9s) Loss: 0.2047 | \"Choe\" -> Korean ✓\n",
      "145000 48.33% (14m 39s) Loss: 0.0016 | \"Szczepanski\" -> Polish ✓\n",
      "150000 50.00% (15m 10s) Loss: 0.0584 | \"Janvier\" -> French ✓\n",
      "155000 51.67% (15m 40s) Loss: 0.0456 | \"Ferrara\" -> Italian ✓\n",
      "160000 53.33% (16m 9s) Loss: 0.0233 | \"San nicolas\" -> Spanish ✓\n",
      "165000 55.00% (16m 40s) Loss: 0.0001 | \"Danyushevsky\" -> Russian ✓\n",
      "170000 56.67% (17m 10s) Loss: 0.2351 | \"Login\" -> Irish ✓\n",
      "175000 58.33% (17m 40s) Loss: 0.1504 | \"Woo\" -> Korean ✓\n",
      "180000 60.00% (18m 10s) Loss: 0.0140 | \"Stroggylis\" -> Greek ✓\n",
      "185000 61.67% (18m 40s) Loss: 0.2419 | \"Delgado\" -> Portuguese ✓\n",
      "190000 63.33% (19m 10s) Loss: 0.0067 | \"Deschamps\" -> French ✓\n",
      "195000 65.00% (19m 39s) Loss: 0.0146 | \"Treasach\" -> Irish ✓\n",
      "200000 66.67% (20m 9s) Loss: 0.0049 | \"OwYang\" -> Chinese ✓\n",
      "205000 68.33% (20m 39s) Loss: 2.1396 | \"Mcleod\" -> Scottish ✗ (English)\n",
      "210000 70.00% (21m 8s) Loss: 0.1611 | \"Teunissen\" -> Dutch ✓\n",
      "215000 71.67% (21m 38s) Loss: 0.0001 | \"O'Malley\" -> Irish ✓\n",
      "220000 73.33% (22m 8s) Loss: 0.0563 | \"Melo\" -> Portuguese ✓\n",
      "225000 75.00% (22m 37s) Loss: 0.0064 | \"Jon\" -> Korean ✓\n",
      "230000 76.67% (23m 7s) Loss: 0.0008 | \"Haanraads\" -> Dutch ✓\n",
      "235000 78.33% (23m 37s) Loss: 0.3061 | \"Praseta\" -> Czech ✓\n",
      "240000 80.00% (24m 6s) Loss: 0.0000 | \"Kogara\" -> Japanese ✓\n",
      "245000 81.67% (24m 35s) Loss: 0.0056 | \"Hew\" -> Chinese ✓\n",
      "250000 83.33% (25m 5s) Loss: 0.0017 | \"Ino\" -> Japanese ✓\n",
      "255000 85.00% (25m 34s) Loss: 0.0267 | \"Braden\" -> Irish ✓\n",
      "260000 86.67% (26m 4s) Loss: 0.0000 | \"Abeldyaev\" -> Russian ✓\n",
      "265000 88.33% (26m 33s) Loss: 0.0040 | \"Eslick\" -> English ✓\n",
      "270000 90.00% (27m 2s) Loss: 0.0508 | \"Bell\" -> Scottish ✓\n",
      "275000 91.67% (27m 32s) Loss: 0.1246 | \"Castro\" -> Portuguese ✓\n",
      "280000 93.33% (28m 1s) Loss: 0.0016 | \"Dempko\" -> Czech ✓\n",
      "285000 95.00% (28m 31s) Loss: 0.0409 | \"Delgado\" -> Portuguese ✓\n",
      "290000 96.67% (29m 0s) Loss: 0.0002 | \"Matsuki\" -> Japanese ✓\n",
      "295000 98.33% (29m 30s) Loss: 0.0112 | \"John\" -> Irish ✓\n",
      "300000 100.00% (29m 59s) Loss: 2.9202 | \"Beringer\" -> German ✗ (French)\n"
     ]
    }
   ],
   "source": [
    "import torch.optim as optim\n",
    "import time\n",
    "import math\n",
    "learning_rate = 0.1 \n",
    "n_iters = 300000\n",
    "print_every = 5000\n",
    "plot_every = 1000\n",
    "\n",
    "# Keep track of losses for plotting\n",
    "current_loss = 0\n",
    "current_accuracy = 0\n",
    "all_losses = []\n",
    "all_accuracy = []\n",
    "\n",
    "start = time.time()\n",
    "\n",
    "optimizer = optim.SGD(my_lstm.parameters(), lr=learning_rate)\n",
    "\n",
    "\n",
    "# 用于计算时间\n",
    "def timeSince(since):\n",
    "    now = time.time()\n",
    "    s = now - since\n",
    "    m = math.floor(s / 60)\n",
    "    s -= m * 60\n",
    "    return '%dm %ds' % (m, s)\n",
    "\n",
    "\n",
    "def train(category_tensor, line_tensor):\n",
    "    # 确保数据也在相同 device 上\n",
    "    category_tensor = category_tensor.to(device)\n",
    "    line_tensor = line_tensor.to(device)\n",
    "\n",
    "    # 初始化 hidden 状态\n",
    "    hidden1, hidden2 = my_lstm.init_hidden(batch_size=1)\n",
    "    \n",
    "    # 梯度清零\n",
    "    my_lstm.zero_grad()\n",
    "\n",
    "    # 转换形状为 (batch, seq_len, input_size)\n",
    "    line_tensor = line_tensor.transpose(0, 1)\n",
    "\n",
    "    # 前向传播\n",
    "    output, hidden1, hidden2 = my_lstm(line_tensor, hidden1, hidden2)\n",
    "\n",
    "    # 计算 loss，反向传播\n",
    "    loss = criterion(output, category_tensor)\n",
    "    loss.backward()\n",
    "    optimizer.step()\n",
    "\n",
    "    return output, loss.item()\n",
    "\n",
    "    \n",
    "for iter in range(1, n_iters + 1):\n",
    "    category, line, category_tensor, line_tensor = randomTrainingExample()\n",
    "    output, loss = train(category_tensor, line_tensor)\n",
    "    current_loss += loss\n",
    "\n",
    "    guess, guess_i = categoryFromOutput(output)\n",
    "    if guess == category:\n",
    "        current_accuracy += 1\n",
    "\n",
    "    if iter % print_every == 0:\n",
    "        correct = '✓' if guess == category else f'✗ ({category})'\n",
    "        print(f'{iter} {iter / n_iters * 100:.2f}% ({timeSince(start)}) '\n",
    "              f'Loss: {loss:.4f} | \"{line}\" -> {guess} {correct}')\n",
    "\n",
    "    if iter % plot_every == 0:\n",
    "        all_losses.append(current_loss / plot_every)\n",
    "        all_accuracy.append(current_accuracy / plot_every)\n",
    "        current_loss = 0\n",
    "        current_accuracy = 0\n"
   ]
  },
  {
   "cell_type": "code",
   "execution_count": 34,
   "id": "1412e224-22c3-455f-9558-8045bffe0078",
   "metadata": {},
   "outputs": [],
   "source": [
    "\n",
    "import torch.optim as optim\n",
    "criterion = nn.NLLLoss()\n",
    "learning_rate = 0.1 # If you set this too high, it might explode. If too low, it might not learn\n",
    "\n",
    "optimizer = optim.SGD(my_lstm.parameters(), lr=learning_rate)\n",
    "def train(category_tensor, line_tensor):\n",
    "    hidden1, hidden2 = my_lstm.init_hidden()\n",
    "    my_lstm.zero_grad()\n",
    "\n",
    "    for i in range(line_tensor.size()[0]):\n",
    "        output, hidden1, hidden2 = my_lstm(line_tensor[i], hidden1,hidden2)\n",
    "\n",
    "    loss = criterion(output, category_tensor)\n",
    "    loss.backward()\n",
    "    optimizer.step()\n",
    "    return output, loss.item()"
   ]
  },
  {
   "cell_type": "code",
   "execution_count": null,
   "id": "7a6ac39a-bd35-406e-b5d5-347b5851461b",
   "metadata": {},
   "outputs": [
    {
     "name": "stdout",
     "output_type": "stream",
     "text": [
      "5000 1% (0m 30s) 2.9522 Kruse / Dutch ✗ (German)\n",
      "10000 2% (1m 0s) 2.8448 Crespo / Greek ✗ (Portuguese)\n",
      "15000 3% (1m 29s) 2.7700 Wang / Spanish ✗ (Chinese)\n"
     ]
    }
   ],
   "source": [
    "import time\n",
    "import math\n",
    "# Keep track of losses for plotting\n",
    "current_loss = 0\n",
    "current_accuracy = 0\n",
    "all_losses = []\n",
    "all_accuracy = []\n",
    "\n",
    "start = time.time()\n",
    "# 迭代和打印的设置\n",
    "n_iters = 500000\n",
    "print_every = 5000\n",
    "plot_every = 1000\n",
    "\n",
    "# 用于计算时间\n",
    "def timeSince(since):\n",
    "    now = time.time()\n",
    "    s = now - since\n",
    "    m = math.floor(s / 60)\n",
    "    s -= m * 60\n",
    "    return '%dm %ds' % (m, s)\n",
    "for iter in range(1, n_iters + 1):\n",
    "    category, line, category_tensor, line_tensor = randomTrainingExample()\n",
    "    output, loss = train(category_tensor, line_tensor)\n",
    "    current_loss += loss\n",
    "    # 添加准确率accuracy\n",
    "    guess, guess_i = categoryFromOutput(output)\n",
    "    if guess == category:\n",
    "        current_accuracy +=1\n",
    "\n",
    "    # Print iter number, loss, name and guess\n",
    "    if iter % print_every == 0:\n",
    "        guess, guess_i = categoryFromOutput(output)\n",
    "        correct = '✓' if guess == category else '✗ (%s)' % category\n",
    "        print('%d %d%% (%s) %.4f %s / %s %s' % (iter, iter / n_iters * 100, timeSince(start), loss, line, guess, correct))\n",
    "\n",
    "    # Add current loss avg to list of losses\n",
    "    if iter % plot_every == 0:\n",
    "        all_losses.append(current_loss / plot_every)\n",
    "        all_accuracy.append(current_accuracy/plot_every)\n",
    "        current_loss = 0\n",
    "        current_accuracy = 0"
   ]
  },
  {
   "cell_type": "code",
   "execution_count": 18,
   "id": "bb99e8c3-53e9-4d96-991d-055b29936d89",
   "metadata": {},
   "outputs": [],
   "source": [
    "loss_lstm_my=all_losses\n",
    "accuracy_lstm_my=all_accuracy"
   ]
  },
  {
   "cell_type": "markdown",
   "id": "eed19e81",
   "metadata": {},
   "source": [
    "Now we just have to run that with a bunch of examples. Since the train function returns both the output and loss we can print its guesses and also keep track of loss for plotting. Since there are 1000s of examples we print only every print_every examples, and take an average of the loss."
   ]
  },
  {
   "cell_type": "code",
   "execution_count": 25,
   "id": "4bd0d19f-3837-4d16-84f9-458465292b8e",
   "metadata": {},
   "outputs": [],
   "source": [
    "# 迭代和打印的设置\n",
    "n_iters = 500000\n",
    "print_every = 5000\n",
    "plot_every = 1000\n",
    "\n",
    "# 用于计算时间\n",
    "def timeSince(since):\n",
    "    now = time.time()\n",
    "    s = now - since\n",
    "    m = math.floor(s / 60)\n",
    "    s -= m * 60\n",
    "    return '%dm %ds' % (m, s)\n",
    "\n",
    "def train_and_print(net):\n",
    "    # Keep track of losses & accuracies for plotting\n",
    "    current_loss = 0\n",
    "    current_accuracy = 0\n",
    "    all_losses = []\n",
    "    all_accuracy = []\n",
    "    start = time.time()\n",
    "\n",
    "    for iter in range(1, n_iters + 1):\n",
    "        category, line, category_tensor, line_tensor = randomTrainingExample()\n",
    "        output, loss = train(category_tensor, line_tensor, net)\n",
    "        \n",
    "        current_loss += loss\n",
    "        if net.isLSTM == True:\n",
    "            guess, guess_i = categoryFromOutput(output[-1])\n",
    "        else:\n",
    "            guess, guess_i = categoryFromOutput(output)\n",
    "        if guess == category:\n",
    "            current_accuracy += 1\n",
    "\n",
    "        # Print iter number, loss, name and guess\n",
    "        if iter % print_every == 0:\n",
    "            correct = '✓' if guess == category else '✗ (%s)' % category\n",
    "            print('%d %d%% (%s) %.4f %s / %s %s' % (iter, iter / n_iters * 100, timeSince(start), loss, line, guess, correct))\n",
    "\n",
    "        # Add current loss avg to list of losses\n",
    "        if iter % plot_every == 0:\n",
    "            all_losses.append(current_loss / plot_every)\n",
    "            all_accuracy.append(current_accuracy / plot_every)\n",
    "            current_loss = 0\n",
    "            current_accuracy = 0\n",
    "    return all_losses, all_accuracy"
   ]
  },
  {
   "cell_type": "code",
   "execution_count": 31,
   "id": "c892ccc0-433b-4268-a211-45f22153d9ae",
   "metadata": {},
   "outputs": [
    {
     "name": "stdout",
     "output_type": "stream",
     "text": [
      "5000 1% (0m 13s) 2.8099 Oleastro / English ✗ (Spanish)\n",
      "10000 2% (0m 24s) 2.7673 Sergeant / French ✓\n",
      "15000 3% (0m 35s) 2.7522 Bouchard / Arabic ✗ (French)\n",
      "20000 4% (0m 47s) 2.7403 Lethbridge / English ✓\n",
      "25000 5% (0m 58s) 2.8750 Kolman / Irish ✗ (Czech)\n",
      "30000 6% (1m 9s) 2.5552 Abelli / Czech ✗ (Italian)\n",
      "35000 7% (1m 21s) 1.4893 Shin / Vietnamese ✗ (Korean)\n",
      "40000 8% (1m 32s) 4.3664 Tenshin / English ✗ (Japanese)\n",
      "45000 9% (1m 43s) 2.3019 Shimon / Arabic ✗ (Japanese)\n",
      "50000 10% (1m 54s) 1.2585 Nowak / Polish ✓\n",
      "55000 11% (2m 4s) 2.9195 Mackay / Russian ✗ (Scottish)\n",
      "60000 12% (2m 15s) 1.2549 Han / Chinese ✓\n",
      "65000 13% (2m 26s) 1.7978 Dagher / German ✗ (Arabic)\n",
      "70000 14% (2m 37s) 0.7715 Obinata / Japanese ✓\n",
      "75000 15% (2m 48s) 1.2193 Kohler / German ✓\n",
      "80000 16% (2m 58s) 2.9759 Zaruba / Portuguese ✗ (Czech)\n",
      "85000 17% (3m 9s) 2.6855 Desmond / Scottish ✗ (Irish)\n",
      "90000 18% (3m 20s) 1.3035 Cornett / German ✗ (French)\n",
      "95000 19% (3m 31s) 0.4844 Sarti / Italian ✓\n",
      "100000 20% (3m 42s) 1.4967 Reynder / German ✗ (Dutch)\n",
      "105000 21% (3m 52s) 1.2657 Zhi / Korean ✗ (Chinese)\n",
      "110000 22% (4m 3s) 1.6707 Divnich / Irish ✗ (Russian)\n",
      "115000 23% (4m 14s) 1.1604 Youn / Chinese ✗ (Korean)\n",
      "120000 24% (4m 25s) 0.2175 Bukowski / Polish ✓\n",
      "125000 25% (4m 36s) 3.1234 Jelen / Dutch ✗ (Polish)\n",
      "130000 26% (4m 47s) 1.0257 Napoliello / Spanish ✗ (Italian)\n",
      "135000 27% (4m 59s) 0.2296 Thach / Vietnamese ✓\n",
      "140000 28% (5m 10s) 0.0331 Jbankov / Russian ✓\n",
      "145000 28% (5m 21s) 1.6960 Rose / French ✓\n",
      "150000 30% (5m 32s) 2.5320 Bordelon / Scottish ✗ (French)\n",
      "155000 31% (5m 43s) 1.8398 De santigo / Portuguese ✗ (Spanish)\n",
      "160000 32% (5m 55s) 0.5296 Yeon / Korean ✓\n",
      "165000 33% (6m 6s) 1.1312 Eddy / English ✓\n",
      "170000 34% (6m 17s) 1.7017 Geryk / Polish ✗ (Czech)\n",
      "175000 35% (6m 28s) 0.0354 Nahas / Arabic ✓\n",
      "180000 36% (6m 38s) 3.0317 Kim / Korean ✗ (Vietnamese)\n",
      "185000 37% (6m 49s) 0.0957 Shalhoub / Arabic ✓\n",
      "190000 38% (7m 0s) 0.1442 Schugorev / Russian ✓\n",
      "195000 39% (7m 11s) 0.6459 Phan / Vietnamese ✓\n",
      "200000 40% (7m 21s) 1.0631 Gerhard / French ✗ (German)\n",
      "205000 41% (7m 32s) 0.3096 Bosko / Polish ✓\n",
      "210000 42% (7m 43s) 0.2648 Treasach / Irish ✓\n",
      "215000 43% (7m 54s) 0.7876 Diaz / Spanish ✓\n",
      "220000 44% (8m 5s) 0.1514 Novak / Czech ✓\n",
      "225000 45% (8m 16s) 0.1865 Que / Chinese ✓\n",
      "230000 46% (8m 27s) 1.8679 Moss / French ✗ (English)\n",
      "235000 47% (8m 39s) 4.1956 William / English ✗ (Irish)\n",
      "240000 48% (8m 50s) 0.1254 Chermak / Czech ✓\n",
      "245000 49% (9m 2s) 0.0472 Pini / Italian ✓\n",
      "250000 50% (9m 13s) 0.1067 Jukovets / Russian ✓\n",
      "255000 51% (9m 24s) 1.0945 Hewitt / English ✓\n",
      "260000 52% (9m 36s) 0.0623 To / Vietnamese ✓\n",
      "265000 53% (9m 47s) 0.0474 Mitchell / Scottish ✓\n",
      "270000 54% (9m 59s) 0.0557 Seighin / Irish ✓\n",
      "275000 55% (10m 10s) 1.6451 Timson / Scottish ✗ (English)\n",
      "280000 56% (10m 21s) 0.1280 Almeida / Portuguese ✓\n",
      "285000 56% (10m 33s) 0.5309 Herten / Dutch ✓\n",
      "290000 57% (10m 44s) 1.8073 Norris / Greek ✗ (English)\n",
      "295000 59% (10m 55s) 0.4986 Klimek / Polish ✓\n",
      "300000 60% (11m 7s) 0.4811 Plisko / Czech ✓\n",
      "305000 61% (11m 18s) 2.1790 Kurtz / German ✗ (Czech)\n",
      "310000 62% (11m 30s) 0.0129 Hyobanshi / Japanese ✓\n",
      "315000 63% (11m 41s) 0.3975 Sierra / Spanish ✓\n",
      "320000 64% (11m 52s) 0.0577 Bach / Vietnamese ✓\n",
      "325000 65% (12m 3s) 0.1204 Zhang / Chinese ✓\n",
      "330000 66% (12m 14s) 0.0793 Amari / Arabic ✓\n",
      "335000 67% (12m 26s) 1.6347 Eadie / Greek ✗ (English)\n",
      "340000 68% (12m 37s) 1.8202 Lobo / Portuguese ✗ (Spanish)\n",
      "345000 69% (12m 47s) 0.0794 Mateus / Portuguese ✓\n",
      "350000 70% (12m 58s) 1.7884 Opp / German ✗ (Czech)\n",
      "355000 71% (13m 9s) 0.1046 Kijek / Polish ✓\n",
      "360000 72% (13m 20s) 0.0773 Tungusov / Russian ✓\n",
      "365000 73% (13m 31s) 0.0081 Gong / Chinese ✓\n",
      "370000 74% (13m 42s) 0.0736 Johnstone / Scottish ✓\n",
      "375000 75% (13m 53s) 2.4814 Paternoster / Italian ✗ (French)\n",
      "380000 76% (14m 4s) 0.0344 Niadh / Irish ✓\n",
      "385000 77% (14m 14s) 0.2881 Sekovora / Czech ✓\n",
      "390000 78% (14m 25s) 0.3493 Sun / Korean ✓\n",
      "395000 79% (14m 36s) 0.2742 Harb / Arabic ✓\n",
      "400000 80% (14m 48s) 0.4211 Girling / English ✓\n",
      "405000 81% (14m 58s) 2.2534 Castro / Portuguese ✗ (Spanish)\n",
      "410000 82% (15m 10s) 0.3533 Antonowitsch / Czech ✓\n",
      "415000 83% (15m 21s) 0.0006 Malouf / Arabic ✓\n",
      "420000 84% (15m 32s) 0.0006 Shiotani / Japanese ✓\n",
      "425000 85% (15m 43s) 0.0631 Baz / Arabic ✓\n",
      "430000 86% (15m 54s) 2.0262 Emerick / German ✗ (English)\n",
      "435000 87% (16m 6s) 0.0178 Ochoa / Spanish ✓\n",
      "440000 88% (16m 16s) 0.5875 Ola / Spanish ✓\n",
      "445000 89% (16m 27s) 0.1318 Gallego / Spanish ✓\n",
      "450000 90% (16m 38s) 0.1208 Pavlik / Czech ✓\n",
      "455000 91% (16m 49s) 0.0649 Bernard / Polish ✓\n",
      "460000 92% (17m 0s) 0.4573 Burns / Scottish ✓\n",
      "465000 93% (17m 11s) 0.2771 Rao / Chinese ✓\n",
      "470000 94% (17m 22s) 0.0210 Bellerose / French ✓\n",
      "475000 95% (17m 32s) 1.9832 Chin / Korean ✗ (Chinese)\n",
      "480000 96% (17m 43s) 0.0684 Jiang / Chinese ✓\n",
      "485000 97% (17m 54s) 0.1459 Wheatcroft / English ✓\n",
      "490000 98% (18m 5s) 0.1897 Wilson / Scottish ✓\n",
      "495000 99% (18m 16s) 0.0805 Sloan / Irish ✓\n",
      "500000 100% (18m 26s) 0.0015 Shalhoub / Arabic ✓\n"
     ]
    }
   ],
   "source": [
    "loss_lstm, accucay_lstm = train_and_print(lstm)"
   ]
  },
  {
   "cell_type": "code",
   "execution_count": 16,
   "id": "099b097b-8821-49c0-8a22-6f8bad232f62",
   "metadata": {},
   "outputs": [
    {
     "name": "stdout",
     "output_type": "stream",
     "text": [
      "5000 1% (0m 6s) 2.9008 Broz / Spanish ✗ (Polish)\n",
      "10000 2% (0m 13s) 1.8852 Kraemer / Dutch ✗ (German)\n",
      "15000 3% (0m 19s) 1.1771 Assaf / Arabic ✓\n",
      "20000 4% (0m 26s) 1.3651 Martinez / Spanish ✓\n",
      "25000 5% (0m 32s) 2.6341 Mazza / Czech ✗ (Italian)\n",
      "30000 6% (0m 39s) 1.2607 Kanaan / Irish ✗ (Arabic)\n",
      "35000 7% (0m 45s) 1.8449 Jennison / Scottish ✗ (English)\n",
      "40000 8% (0m 52s) 1.3448 Blazek / Polish ✗ (Czech)\n",
      "45000 9% (0m 58s) 1.1154 Nie / Korean ✗ (Chinese)\n",
      "50000 10% (1m 5s) 1.5814 Shi / Korean ✗ (Chinese)\n",
      "55000 11% (1m 12s) 3.9986 Laar / Arabic ✗ (Dutch)\n",
      "60000 12% (1m 18s) 3.7420 Aller / German ✗ (Dutch)\n",
      "65000 13% (1m 25s) 0.7765 Torres / Portuguese ✓\n",
      "70000 14% (1m 31s) 0.8303 O'Keeffe / Irish ✓\n",
      "75000 15% (1m 39s) 0.6189 Schuler / German ✓\n",
      "80000 16% (1m 46s) 0.3711 Lam / Vietnamese ✓\n",
      "85000 17% (1m 53s) 0.7529 Pho / Vietnamese ✓\n",
      "90000 18% (2m 0s) 0.5576 Le / Vietnamese ✓\n",
      "95000 19% (2m 7s) 2.2467 Toman / Irish ✗ (Czech)\n",
      "100000 20% (2m 15s) 1.2791 Chun / Chinese ✗ (Korean)\n",
      "105000 21% (2m 22s) 0.0767 Kremlicka / Czech ✓\n",
      "110000 22% (2m 29s) 0.3148 Walker / Scottish ✓\n",
      "115000 23% (2m 36s) 0.6557 Chong / Korean ✓\n",
      "120000 24% (2m 44s) 1.0937 Hamilton / Russian ✗ (Scottish)\n",
      "125000 25% (2m 50s) 1.9172 Grant / English ✗ (Scottish)\n",
      "130000 26% (2m 57s) 1.7356 Salazar / Arabic ✗ (Portuguese)\n",
      "135000 27% (3m 4s) 1.8099 Mendelssohn / Irish ✗ (German)\n",
      "140000 28% (3m 10s) 0.2732 Stumpf / German ✓\n",
      "145000 28% (3m 17s) 0.6744 Campos / Portuguese ✓\n",
      "150000 30% (3m 24s) 2.5714 Tsoumada / Irish ✗ (Greek)\n",
      "155000 31% (3m 31s) 0.1548 Ming / Chinese ✓\n",
      "160000 32% (3m 39s) 1.9038 Koza / Japanese ✗ (Czech)\n",
      "165000 33% (3m 45s) 2.0314 Chu / Vietnamese ✗ (Korean)\n",
      "170000 34% (3m 52s) 1.8496 Beitel / Czech ✗ (German)\n",
      "175000 35% (3m 59s) 2.1077 Gorman / French ✗ (Irish)\n",
      "180000 36% (4m 5s) 2.6587 Demall / Irish ✗ (Czech)\n",
      "185000 37% (4m 12s) 2.4311 Krivan / English ✗ (Czech)\n",
      "190000 38% (4m 19s) 0.1622 Zielinski / Polish ✓\n",
      "195000 39% (4m 25s) 0.9915 Paget / French ✓\n",
      "200000 40% (4m 32s) 0.3828 Thi / Vietnamese ✓\n",
      "205000 41% (4m 39s) 1.3645 San / Chinese ✗ (Korean)\n",
      "210000 42% (4m 45s) 0.8773 Sherak / Czech ✓\n",
      "215000 43% (4m 52s) 1.0241 Peatain / Irish ✓\n",
      "220000 44% (4m 59s) 0.0659 Sekozawa / Japanese ✓\n",
      "225000 45% (5m 5s) 0.2296 Ramires / Portuguese ✓\n",
      "230000 46% (5m 12s) 4.9445 Auttenberg / German ✗ (Polish)\n",
      "235000 47% (5m 19s) 1.3345 Matejka / Polish ✗ (Czech)\n",
      "240000 48% (5m 25s) 0.0485 Nurjanov / Russian ✓\n",
      "245000 49% (5m 32s) 0.2081 Gu / Korean ✓\n",
      "250000 50% (5m 39s) 0.1679 La / Vietnamese ✓\n",
      "255000 51% (5m 45s) 0.3904 Zhao / Chinese ✓\n",
      "260000 52% (5m 52s) 1.7268 Opp / German ✗ (Czech)\n",
      "265000 53% (5m 59s) 1.3471 Ang / Korean ✗ (Chinese)\n",
      "270000 54% (6m 5s) 1.3674 Esparza / Portuguese ✗ (Spanish)\n",
      "275000 55% (6m 12s) 0.0337 Anderson / Scottish ✓\n",
      "280000 56% (6m 18s) 0.0868 Kusunoki / Japanese ✓\n",
      "285000 56% (6m 25s) 1.3957 Duval / French ✓\n",
      "290000 57% (6m 32s) 0.2299 Ingersleben / German ✓\n",
      "295000 59% (6m 38s) 0.0203 Quach / Vietnamese ✓\n",
      "300000 60% (6m 45s) 0.3725 Rodagh / Irish ✓\n",
      "305000 61% (6m 52s) 0.0171 Jackson / Scottish ✓\n",
      "310000 62% (6m 58s) 0.4909 Jong / Korean ✓\n",
      "315000 63% (7m 5s) 0.0588 Bahar / Arabic ✓\n",
      "320000 64% (7m 12s) 0.0977 Thuy / Vietnamese ✓\n",
      "325000 65% (7m 18s) 0.4640 Marquering / Dutch ✓\n",
      "330000 66% (7m 25s) 1.8583 Rompu / French ✗ (Dutch)\n",
      "335000 67% (7m 32s) 1.2540 Dufour / Arabic ✗ (French)\n",
      "340000 68% (7m 38s) 0.2361 Okuma / Japanese ✓\n",
      "345000 69% (7m 45s) 0.6907 Silje / Dutch ✓\n",
      "350000 70% (7m 52s) 0.8784 Sook / Korean ✓\n",
      "355000 71% (7m 59s) 0.8340 Ma / Vietnamese ✗ (Korean)\n",
      "360000 72% (8m 7s) 2.4481 Gouveia / Spanish ✗ (Portuguese)\n",
      "365000 73% (8m 14s) 2.0950 Casey / English ✗ (Irish)\n",
      "370000 74% (8m 20s) 1.2984 Chau / Chinese ✗ (Vietnamese)\n",
      "375000 75% (8m 27s) 1.9211 Han / Chinese ✗ (Vietnamese)\n",
      "380000 76% (8m 34s) 0.3633 Kanagaki / Japanese ✓\n",
      "385000 77% (8m 40s) 0.7863 Brant / German ✓\n",
      "390000 78% (8m 47s) 0.1200 Dang / Vietnamese ✓\n",
      "395000 79% (8m 54s) 0.1334 Mclean / Scottish ✓\n",
      "400000 80% (9m 1s) 0.9807 Kohl / German ✓\n",
      "405000 81% (9m 8s) 1.3079 Juarez / Polish ✗ (Spanish)\n",
      "410000 82% (9m 15s) 1.8684 Shammas / Greek ✗ (Arabic)\n",
      "415000 83% (9m 22s) 0.3566 Saliba / Arabic ✓\n",
      "420000 84% (9m 29s) 2.0350 Tahan / Irish ✗ (Arabic)\n",
      "425000 85% (9m 36s) 0.9195 Jon / Chinese ✗ (Korean)\n",
      "430000 86% (9m 44s) 2.5018 Lurie / French ✗ (Russian)\n",
      "435000 87% (9m 51s) 4.2853 Velts / English ✗ (Russian)\n",
      "440000 88% (9m 58s) 1.5243 Betlach / German ✗ (Czech)\n",
      "445000 89% (10m 5s) 1.7182 Nardo / Portuguese ✗ (Italian)\n",
      "450000 90% (10m 12s) 0.9973 Mclean / Irish ✗ (Scottish)\n",
      "455000 91% (10m 19s) 0.6540 Gaspar / Portuguese ✓\n",
      "460000 92% (10m 26s) 2.9970 Peel / Dutch ✗ (English)\n",
      "465000 93% (10m 33s) 0.0047 Antoniadis / Greek ✓\n",
      "470000 94% (10m 40s) 2.3767 Bakhmutski / Japanese ✗ (Russian)\n",
      "475000 95% (10m 47s) 0.2584 Araujo / Portuguese ✓\n",
      "480000 96% (10m 54s) 0.0003 Vamvakidis / Greek ✓\n",
      "485000 97% (11m 1s) 0.5448 Le / Vietnamese ✓\n",
      "490000 98% (11m 7s) 2.7690 an / Irish ✗ (Vietnamese)\n",
      "495000 99% (11m 14s) 0.3389 Wasem / Arabic ✓\n",
      "500000 100% (11m 21s) 1.0099 Araujo / Japanese ✗ (Portuguese)\n"
     ]
    }
   ],
   "source": [
    "loss_rnn, accucay_rnn = train_and_print(rnn)"
   ]
  },
  {
   "cell_type": "markdown",
   "id": "9919c0b4",
   "metadata": {},
   "source": [
    "### Plotting the Results\n",
    "Plotting the historical loss from all_losses shows the network learning:"
   ]
  },
  {
   "cell_type": "code",
   "execution_count": 22,
   "id": "5533ea72",
   "metadata": {},
   "outputs": [],
   "source": [
    "import matplotlib.pyplot as plt\n",
    "import matplotlib.ticker as ticker\n",
    "\n",
    "def plot_lines(losses_1,losses_2,accuracy_1,accuracy_2):\n",
    "    plt.figure(figsize=(10,3))\n",
    "\n",
    "    plt.subplot(1, 2, 1)\n",
    "    plt.plot(losses_1,color='#de526c',linewidth=2, label='RNN')\n",
    "    plt.plot(losses_2,color='skyblue',linewidth=2, label='LSTM')\n",
    "    \n",
    "    plt.title(\"loss\")\n",
    "    plt.legend()\n",
    "\n",
    "    plt.subplot(1, 2, 2)\n",
    "    plt.plot(accuracy_1,color='#de526c',linewidth=2, label='RNN')\n",
    "    plt.plot(accuracy_2,color='skyblue',linewidth=2, label='LSTM')\n",
    "    plt.title(\"accuracy\")\n",
    "    plt.legend()\n",
    "    plt.savefig(\"rnn_lstm.jpg\")"
   ]
  },
  {
   "cell_type": "code",
   "execution_count": 33,
   "id": "44a557fa-96d3-4dea-81ae-13cfca81e1ba",
   "metadata": {},
   "outputs": [],
   "source": [
    "import matplotlib.pyplot as plt\n",
    "import matplotlib.ticker as ticker\n",
    "\n",
    "def plot_lines(losses_1,losses_2,accuracy_1,accuracy_2):\n",
    "    plt.figure(figsize=(10,3))\n",
    "\n",
    "    plt.subplot(1, 2, 1)\n",
    "    plt.plot(losses_1,color='#de526c',linewidth=2, label='LSTM_MY')\n",
    "    plt.plot(losses_2,color='skyblue',linewidth=2, label='LSTM')\n",
    "    \n",
    "    plt.title(\"loss\")\n",
    "    plt.legend()\n",
    "\n",
    "    plt.subplot(1, 2, 2)\n",
    "    plt.plot(accuracy_1,color='#de526c',linewidth=2, label='LSTM_MY')\n",
    "    plt.plot(accuracy_2,color='skyblue',linewidth=2, label='LSTM')\n",
    "    plt.title(\"accuracy\")\n",
    "    plt.legend()\n",
    "    plt.savefig(\"MY_lstm.jpg\")"
   ]
  },
  {
   "cell_type": "code",
   "execution_count": 27,
   "id": "b4517963-b97e-4b7e-b1d2-63860486e2de",
   "metadata": {},
   "outputs": [],
   "source": [
    "def plot_lines(losses, accuracy):\n",
    "    plt.figure(figsize=(10,3))\n",
    "\n",
    "    plt.subplot(1, 2, 1)\n",
    "    plt.plot(losses,color='skyblue',linewidth=1.5, label='RNN')\n",
    "    plt.legend()\n",
    "    plt.title(\"loss\")\n",
    "\n",
    "    plt.subplot(1, 2, 2)\n",
    "    plt.plot(accuracy,color='skyblue',linewidth=1.5, label='RNN')\n",
    "    plt.legend()\n",
    "    plt.title(\"accuracy\")\n",
    "    plt.savefig(\"Rnn.jpg\")"
   ]
  },
  {
   "cell_type": "code",
   "execution_count": 21,
   "id": "278675a8-2c7e-4c52-b28e-d57727487a66",
   "metadata": {},
   "outputs": [],
   "source": [
    "def plot_lines(losses, accuracy):\n",
    "    plt.figure(figsize=(10,3))\n",
    "\n",
    "    plt.subplot(1, 2, 1)\n",
    "    plt.plot(losses,color='#de526c',linewidth=1.5, label='LSTM_MY')\n",
    "    plt.legend()\n",
    "    plt.title(\"loss\")\n",
    "\n",
    "    plt.subplot(1, 2, 2)\n",
    "    plt.plot(accuracy,color='#de526c',linewidth=1.5, label='LSTM_MY')\n",
    "    plt.legend()\n",
    "    plt.title(\"accuracy\")\n",
    "    plt.savefig(\"my_lstm.jpg\")"
   ]
  },
  {
   "cell_type": "code",
   "execution_count": 36,
   "id": "5055cfc1-007a-4541-bbb8-eba8061d72f5",
   "metadata": {},
   "outputs": [
    {
     "data": {
      "image/png": "[encoded data removed]",
      "text/plain": [
       "<Figure size 1000x300 with 2 Axes>"
      ]
     },
     "metadata": {},
     "output_type": "display_data"
    }
   ],
   "source": [
    "plot_lines(loss_lstm_my,loss_lstm[0:300], accuracy_lstm_my,accucay_lstm[0:300])"
   ]
  },
  {
   "cell_type": "code",
   "execution_count": 23,
   "id": "65f8995a-dade-407e-a38b-c089d7fc6ca9",
   "metadata": {},
   "outputs": [
    {
     "data": {
      "image/png": "[encoded data removed]",
      "text/plain": [
       "<Figure size 1000x300 with 2 Axes>"
      ]
     },
     "metadata": {},
     "output_type": "display_data"
    }
   ],
   "source": [
    "plot_lines(loss_lstm_my, accuracy_lstm_my)"
   ]
  },
  {
   "cell_type": "markdown",
   "id": "44d8a092",
   "metadata": {},
   "source": [
    "### Evaluating the Results\n",
    "To see how well the network performs on different categories, we will create a confusion matrix, indicating for every actual language (rows) which language the network guesses (columns). To calculate the confusion matrix a bunch of samples are run through the network with evaluate(), which is the same as train() minus the backprop."
   ]
  },
  {
   "cell_type": "markdown",
   "id": "b65115e1",
   "metadata": {},
   "source": [
    "You can pick out bright spots off the main axis that show which languages it guesses incorrectly, e.g. Chinese for Korean, and Spanish for Italian. It seems to do very well with Greek, and very poorly with English (perhaps because of overlap with other languages)."
   ]
  },
  {
   "cell_type": "code",
   "execution_count": 27,
   "id": "91d8cfda-06d8-46dd-a539-57503f90d0aa",
   "metadata": {},
   "outputs": [],
   "source": [
    "# Keep track of correct guesses in a confusion matrix\n",
    "confusion = torch.zeros(n_categories, n_categories)\n",
    "n_confusion = 10000\n",
    "\n",
    "# Just return an output given a line\n",
    "def evaluate(line_tensor, net):\n",
    "    if net.isLSTM == True:\n",
    "        h0, c0 = net.initHidden()\n",
    "    else:\n",
    "        h0 = net.initHidden()\n",
    "\n",
    "    if net.isLSTM == True:\n",
    "        output, h, c = net(line_tensor, h0, c0)\n",
    "        return output[-1]\n",
    "    else:\n",
    "        for i in range(line_tensor.size()[0]):\n",
    "            output, h0 = net(line_tensor[i], h0)\n",
    "        return output\n",
    "\n",
    "def plot_confusion_matrix(net):\n",
    "    # Go through a bunch of examples and record which are correctly guessed\n",
    "    for i in range(n_confusion):\n",
    "        category, line, category_tensor, line_tensor = randomTrainingExample()\n",
    "        output = evaluate(line_tensor, net)\n",
    "        guess, guess_i = categoryFromOutput(output)\n",
    "        category_i = all_categories.index(category)\n",
    "        confusion[category_i][guess_i] += 1\n",
    "\n",
    "    # Normalize by dividing every row by its sum\n",
    "    for i in range(n_categories):\n",
    "        confusion[i] = confusion[i] / confusion[i].sum()\n",
    "\n",
    "    # Set up plot\n",
    "    fig = plt.figure()\n",
    "    ax = fig.add_subplot(111)\n",
    "    cax = ax.matshow(confusion.numpy())\n",
    "    fig.colorbar(cax)\n",
    "\n",
    "    # Set up axes\n",
    "    ax.set_xticklabels([''] + all_categories, rotation=90)\n",
    "    ax.set_yticklabels([''] + all_categories)\n",
    "\n",
    "    # Force label at every tick\n",
    "    ax.xaxis.set_major_locator(ticker.MultipleLocator(1))\n",
    "    ax.yaxis.set_major_locator(ticker.MultipleLocator(1))\n",
    "    plt.savefig(\"lstm_matrix.png\")\n",
    "\n",
    "    # sphinx_gallery_thumbnail_number = 2\n",
    "    plt.show()"
   ]
  },
  {
   "cell_type": "code",
   "execution_count": 25,
   "id": "485a2ac0-dfed-4791-a607-0d68c2e30c00",
   "metadata": {},
   "outputs": [
    {
     "name": "stderr",
     "output_type": "stream",
     "text": [
      "/tmp/ipykernel_1152/2721348306.py:40: UserWarning: set_ticklabels() should only be used with a fixed number of ticks, i.e. after set_ticks() or using a FixedLocator.\n",
      "  ax.set_xticklabels([''] + all_categories, rotation=90)\n",
      "/tmp/ipykernel_1152/2721348306.py:41: UserWarning: set_ticklabels() should only be used with a fixed number of ticks, i.e. after set_ticks() or using a FixedLocator.\n",
      "  ax.set_yticklabels([''] + all_categories)\n"
     ]
    },
    {
     "data": {
      "image/png": "[encoded data removed]",
      "text/plain": [
       "<Figure size 640x480 with 2 Axes>"
      ]
     },
     "metadata": {},
     "output_type": "display_data"
    }
   ],
   "source": [
    "plot_confusion_matrix(rnn)"
   ]
  },
  {
   "cell_type": "code",
   "execution_count": 28,
   "id": "4e112cad-2770-44a6-b4a2-f25751b15b71",
   "metadata": {},
   "outputs": [
    {
     "name": "stderr",
     "output_type": "stream",
     "text": [
      "/tmp/ipykernel_1152/2805853206.py:40: UserWarning: set_ticklabels() should only be used with a fixed number of ticks, i.e. after set_ticks() or using a FixedLocator.\n",
      "  ax.set_xticklabels([''] + all_categories, rotation=90)\n",
      "/tmp/ipykernel_1152/2805853206.py:41: UserWarning: set_ticklabels() should only be used with a fixed number of ticks, i.e. after set_ticks() or using a FixedLocator.\n",
      "  ax.set_yticklabels([''] + all_categories)\n"
     ]
    },
    {
     "data": {
      "image/png": "[encoded data removed]",
      "text/plain": [
       "<Figure size 640x480 with 2 Axes>"
      ]
     },
     "metadata": {},
     "output_type": "display_data"
    }
   ],
   "source": [
    "plot_confusion_matrix(lstm)"
   ]
  },
  {
   "cell_type": "markdown",
   "id": "dfe1c01e",
   "metadata": {},
   "source": [
    "### Running on User Input"
   ]
  },
  {
   "cell_type": "code",
   "execution_count": 16,
   "id": "23a19ee4",
   "metadata": {},
   "outputs": [
    {
     "name": "stdout",
     "output_type": "stream",
     "text": [
      "\n",
      "> Dovesky\n",
      "(0.68) Russian\n",
      "(0.25) Czech\n",
      "(0.03) English\n",
      "\n",
      "> Jackson\n",
      "(0.70) Scottish\n",
      "(0.18) English\n",
      "(0.05) Russian\n",
      "\n",
      "> Hou\n",
      "(0.49) Chinese\n",
      "(0.34) Korean\n",
      "(0.10) Vietnamese\n"
     ]
    }
   ],
   "source": [
    "import math\n",
    "import numpy as np\n",
    "\n",
    "def predict(input_line, n_predictions=3):\n",
    "    print('\\n> %s' % input_line)\n",
    "    with torch.no_grad():\n",
    "        output = evaluate(lineToTensor(input_line))\n",
    "\n",
    "        # Get top N categories\n",
    "        topv, topi = output.topk(n_predictions, 1, True)\n",
    "        predictions = []\n",
    "\n",
    "        for i in range(n_predictions):\n",
    "            value = topv[0][i].item()\n",
    "            category_index = topi[0][i].item()\n",
    "            print('(%.2f) %s' % (np.exp(value), all_categories[category_index]))\n",
    "            predictions.append([value, all_categories[category_index]])\n",
    "\n",
    "predict('Dovesky')\n",
    "predict('Jackson')\n",
    "predict('Hou')"
   ]
  },
  {
   "cell_type": "code",
   "execution_count": null,
   "id": "3a170e12",
   "metadata": {},
   "outputs": [],
   "source": []
  }
 ],
 "metadata": {
  "kernelspec": {
   "display_name": "Python 3 (ipykernel)",
   "language": "python",
   "name": "python3"
  },
  "language_info": {
   "codemirror_mode": {
    "name": "ipython",
    "version": 3
   },
   "file_extension": ".py",
   "mimetype": "text/x-python",
   "name": "python",
   "nbconvert_exporter": "python",
   "pygments_lexer": "ipython3",
   "version": "3.12.3"
  }
 },
 "nbformat": 4,
 "nbformat_minor": 5
}
